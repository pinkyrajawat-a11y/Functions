{
  "nbformat": 4,
  "nbformat_minor": 0,
  "metadata": {
    "colab": {
      "provenance": []
    },
    "kernelspec": {
      "name": "python3",
      "display_name": "Python 3"
    },
    "language_info": {
      "name": "python"
    }
  },
  "cells": [
    {
      "cell_type": "markdown",
      "source": [
        "# Functions\n"
      ],
      "metadata": {
        "id": "m361Y2ngmuz4"
      }
    },
    {
      "cell_type": "markdown",
      "source": [
        "1. What is Python, and why is it popular?\n",
        " - Python is a high-level, interpreted programming language known for its simple syntax, readability, and versatility. It is popular because it is easy to learn, has a large library support, strong community, and is widely used in fields like web development, data science, AI, automation, and more.\n",
        "\n",
        " 2. What is an interpreter in Python?\n",
        "  - In Python, an interpreter is the program that executes Python code line by line.\n",
        "- It reads the code, translates it into machine-readable instructions, and runs it immediately without the need for a separate compilation step.\n",
        "\n",
        "3. What are pre-defined keywords in Python?\n",
        " - Pre-defined keywords in Python are the special reserved words that have fixed meanings and purposes in the language.\n",
        "They are used to define the syntax and structure of Python programs, and you cannot use them as variable names, function names, or identifiers.\n",
        "\n",
        "* Examples include:\n",
        "if, else, while, for, break, continue, class, def, return, try, except, import, True, False, None, etc.\n",
        "\n",
        "4. Can keywords be used as variable names?\n",
        "- No, keywords cannot be used as variable names in Python because they are reserved words with predefined meanings in the language.\n",
        "\n",
        "5. What is mutability in Python?\n",
        "- Mutability in Python refers to the ability of an object to be changed after it is created.\n",
        "\n",
        "* Mutable objects (like lists, dictionaries, sets) can be modified without creating a new object.\n",
        "* Immutable objects (like strings, tuples, integers) cannot be changed once created; any modification creates a new object.\n",
        "\n",
        "6. Why are lists mutable, but tuples are immutable?\n",
        "- Lists are mutable because Python allows changing, adding, or removing elements within them after creation. Their memory structure is designed to be flexible and dynamic.\n",
        "\n",
        "Tuples are immutable because once created, their elements cannot be altered. This immutability ensures data integrity, makes tuples hashable (usable as dictionary keys), and provides better performance in certain cases.\n",
        "\n",
        "7. What is the difference between “==” and “is” operators in Python?\n",
        "- The difference is:\n",
        "\n",
        "== operator → Compares the values of two objects (checks if the contents are equal).\n",
        "\n",
        "is operator → Compares the identity of two objects (checks if they refer to the same memory location).\n",
        "\n",
        "8. What are logical operators in Python?\n",
        "- Logical operators in Python are used to combine conditional statements and return a Boolean value (True or False).\n",
        "\n",
        "The three logical operators are:\n",
        "\n",
        "and → Returns True if both conditions are true.\n",
        "\n",
        "or → Returns True if at least one condition is true.\n",
        "\n",
        "not → Returns True if the condition is false (inverts the result).\n",
        "\n",
        "9. What is type casting in Python?\n",
        "- pe casting in Python is the process of converting a value from one data type to another, such as converting an integer to a float or a string to an integer.\n",
        "\n",
        " It is done using built-in functions like int(), float(), str(), etc.\n",
        "\n",
        "10. What is the difference between implicit and explicit type casting?\n",
        "- The difference is:\n",
        "\n",
        "Implicit type casting (Type conversion): Done automatically by Python when a smaller data type is converted into a larger data type to avoid data loss (e.g., int → float).\n",
        "\n",
        "Explicit type casting (Type casting): Done manually by the programmer using built-in functions like int(), float(), str(), etc.\n",
        "\n",
        "11. What is the purpose of conditional statements in Python?\n",
        "- The purpose of conditional statements in Python is to make decisions in a program by executing certain blocks of code only when specific conditions are true.\n",
        "\n",
        " They allow the program to follow different paths (like using if, elif, and else) based on given conditions.\n",
        "\n",
        "12.  How does the elif statement work?\n",
        "- The elif statement in Python is used after an if statement to check multiple conditions one by one.\n",
        "\n",
        "* It stands for “else if” and is executed only if the previous if (or another elif) condition is false.\n",
        " As soon as one condition evaluates to True, its block runs, and the rest of the conditions are skipped.\n",
        "\n",
        " 13. What is the difference between for and while loops?\n",
        " - The difference is:\n",
        "\n",
        "for loop → Used when you know the number of iterations in advance; it iterates over a sequence (like list, tuple, string, or range).\n",
        "\n",
        "while loop → Used when the number of iterations is not known in advance; it keeps running as long as a specified condition is true.\n",
        "\n",
        "14. Describe a scenario where a while loop is more suitable than a for loop.\n",
        "- A while loop is more suitable when the number of iterations is not fixed and depends on a condition being met.\n",
        "\n",
        " Example scenario: Continuously asking a user for input until they enter a correct password."
      ],
      "metadata": {
        "id": "4fBnGjKmVe64"
      }
    },
    {
      "cell_type": "markdown",
      "source": [],
      "metadata": {
        "id": "2_uaE94XnK_B"
      }
    },
    {
      "cell_type": "code",
      "execution_count": null,
      "metadata": {
        "id": "KQVsmRWBlW8Z"
      },
      "outputs": [],
      "source": [
        "# 1. Write a Python program to print \"Hello, World!\"\n",
        "\"\"\"\n",
        "print(\"Hello, World!\")\n",
        "\"\"\""
      ]
    },
    {
      "cell_type": "code",
      "source": [
        "# 2. Write a Python program that displays your name and age.\n",
        "\"\"\"\n",
        "print(\"My name is Anita Singh Rajawat\")\n",
        "print(\"I am 44 years old\")\n",
        "\"\"\""
      ],
      "metadata": {
        "id": "u5CVPIhBhQ1O"
      },
      "execution_count": null,
      "outputs": []
    },
    {
      "cell_type": "code",
      "source": [
        "# 3. Write code to print all the pre-defined keywords in Python using the keyword library.\n",
        "\"\"\"\n",
        "import keyword\n",
        "print(\"List of python keywords:\")\n",
        "print(keyword.kwlist)\n",
        "\"\"\""
      ],
      "metadata": {
        "id": "k5IsklLaiWtz"
      },
      "execution_count": null,
      "outputs": []
    },
    {
      "cell_type": "code",
      "source": [
        "# 4. Write a program that checks if a given word is a Python keyword.\n",
        "\"\"\"\n",
        "import keyword\n",
        "\n",
        "word = input(\"Enter a word: \")\n",
        "\n",
        "if keyword.iskeyword(word):\n",
        "    print(f\"{word} is a Python keyword.\")\n",
        "else:\n",
        "    print(f\"{word} is not a Python keyword.\")\n",
        "    \"\"\""
      ],
      "metadata": {
        "id": "DhK_kYggkB85"
      },
      "execution_count": null,
      "outputs": []
    },
    {
      "cell_type": "code",
      "source": [
        "# 5. Create a list and tuple in Python, and demonstrate how attempting to change an element works differently for each.\n",
        "\"\"\"\n",
        "my_list = [10, 20, 30]\n",
        "print(\"Original list:\", my_list)\n",
        "\n",
        "my_list[1] = 200\n",
        "print(\"Modified list:\", my_list)\n",
        "\n",
        "my_tuple = (10, 20, 30)\n",
        "print(\"\\nOriginal tuple:\", my_tuple)\n",
        "\n",
        "try:\n",
        "    my_tuple[1] = 200\n",
        "except TypeError as e:\n",
        "    print(\"Error while modifying tuple:\", e)\n",
        "    \"\"\""
      ],
      "metadata": {
        "id": "F5FZ21TTkooq"
      },
      "execution_count": null,
      "outputs": []
    },
    {
      "cell_type": "code",
      "source": [
        "# 6.  Write a function to demonstrate the behavior of mutable and immutable arguments.\n",
        "\"\"\"\n",
        "def modify_data(x, y):\n",
        "    x.append(100)\n",
        "    y = y + 100\n",
        "    print(\"Inside function: x =\", x, \", y =\", y)\n",
        "\n",
        "my_list = [1, 2, 3]\n",
        "my_int = 10\n",
        "\n",
        "modify_data(my_list, my_int)\n",
        "\n",
        "print(\"Outside function: my_list =\", my_list, \", my_int =\", my_int)\n",
        "\"\"\""
      ],
      "metadata": {
        "colab": {
          "base_uri": "https://localhost:8080/",
          "height": 53
        },
        "collapsed": true,
        "id": "Xu4X9aq7lnCv",
        "outputId": "62c2c0a6-cfde-47cc-cd10-939246c38793"
      },
      "execution_count": 2,
      "outputs": [
        {
          "output_type": "execute_result",
          "data": {
            "text/plain": [
              "'\\ndef modify_data(x, y):\\n    x.append(100)\\n    y = y + 100\\n    print(\"Inside function: x =\", x, \", y =\", y)\\n\\nmy_list = [1, 2, 3]\\nmy_int = 10\\n\\nmodify_data(my_list, my_int)\\n\\nprint(\"Outside function: my_list =\", my_list, \", my_int =\", my_int)\\n'"
            ],
            "application/vnd.google.colaboratory.intrinsic+json": {
              "type": "string"
            }
          },
          "metadata": {},
          "execution_count": 2
        }
      ]
    },
    {
      "cell_type": "code",
      "source": [
        "# 7.  Write a program that performs basic arithmetic operations on two user-input numbers.\n",
        "\"\"\"\n",
        "a = float(input(\"Enter first number: \"))\n",
        "b = float(input(\"Enter second number: \"))\n",
        "\n",
        "print(\"Addition:\", a + b)\n",
        "print(\"Subtraction:\", a - b)\n",
        "print(\"Multiplication:\", a * b)\n",
        "print(\"Division:\", a / b)\n",
        "\"\"\""
      ],
      "metadata": {
        "id": "ZBnJ_HFUmCWS"
      },
      "execution_count": null,
      "outputs": []
    },
    {
      "cell_type": "code",
      "source": [
        "# 8.  Write a program to demonstrate the use of logical operators.\n",
        "\"\"\"\n",
        "a = int(input(\"Enter first number: \"))\n",
        "b = int(input(\"Enter second number: \"))\n",
        "\n",
        "print(\"a > 0 and b > 0:\", a > 0 and b > 0)\n",
        "print(\"a > 0 or b > 0:\", a > 0 or b > 0)\n",
        "print(\"not (a > 0):\", not (a > 0))\n",
        "\"\"\""
      ],
      "metadata": {
        "id": "CqdXDYTFmlAF"
      },
      "execution_count": null,
      "outputs": []
    },
    {
      "cell_type": "code",
      "source": [
        "# 9.  Write a Python program to convert user input from string to integer, float, and boolean types.\n",
        "\"\"\"\n",
        "data = input(\"Enter something: \")\n",
        "\n",
        "int_data = int(data)\n",
        "float_data = float(data)\n",
        "bool_data = bool(data)\n",
        "\n",
        "print(\"Integer:\", int_data)\n",
        "print(\"Float:\", float_data)\n",
        "print(\"Boolean:\", bool_data)\n",
        "\"\"\"\n"
      ],
      "metadata": {
        "id": "SN83UoajmxbU"
      },
      "execution_count": null,
      "outputs": []
    },
    {
      "cell_type": "code",
      "source": [
        "# 10. Write code to demonstrate type casting with list elements.\n",
        "\"\"\"\n",
        "my_list = [\"1\", \"2\", \"3\", \"4\"]\n",
        "\n",
        "int_list = [int(x) for x in my_list]\n",
        "\n",
        "float_list = [float(x) for x in int_list]\n",
        "\n",
        "print(\"Original list:\", my_list)\n",
        "print(\"Integer list:\", int_list)\n",
        "print(\"Float list:\", float_list)\n",
        "\"\"\"\n"
      ],
      "metadata": {
        "id": "hAcAjxT6nFfq"
      },
      "execution_count": null,
      "outputs": []
    },
    {
      "cell_type": "code",
      "source": [
        "# 11. Write a program that checks if a number is positive, negative, or zero.\n",
        "\"\"\"\n",
        "num = float(input(\"Enter a number: \"))\n",
        "\n",
        "if num > 0:\n",
        "    print(\"Positive\")\n",
        "elif num < 0:\n",
        "    print(\"Negative\")\n",
        "else:\n",
        "    print(\"Zero\")\n",
        "    \"\"\""
      ],
      "metadata": {
        "id": "Hjnojm5RnWpr"
      },
      "execution_count": null,
      "outputs": []
    },
    {
      "cell_type": "code",
      "source": [
        " # 12.  Write a for loop to print numbers from 1 to 10.\n",
        " \"\"\"\n",
        " for i in range(1, 11):\n",
        "    print(i)\n",
        "    \"\"\""
      ],
      "metadata": {
        "id": "IHrskSQdnjD2"
      },
      "execution_count": null,
      "outputs": []
    },
    {
      "cell_type": "code",
      "source": [
        "# 13.  Write a Python program to find the sum of all even numbers between 1 and 50.\n",
        "\"\"\"\n",
        "sum_even = 0\n",
        "for i in range(1, 51):\n",
        "    if i % 2 == 0:\n",
        "        sum_even += i\n",
        "\n",
        "print(\"Sum of even numbers from 1 to 50:\", sum_even)\n",
        "\"\"\""
      ],
      "metadata": {
        "id": "jf7jGSFBnwmh"
      },
      "execution_count": null,
      "outputs": []
    },
    {
      "cell_type": "code",
      "source": [
        "# 14.  Write a program to reverse a string using a while loop.\n",
        "\"\"\"\n",
        "s = input(\"Enter a string: \")\n",
        "reversed_s = \"\"\n",
        "i = len(s) - 1\n",
        "\n",
        "while i >= 0:\n",
        "    reversed_s += s[i]\n",
        "    i -= 1\n",
        "\n",
        "print(\"Reversed string:\", reversed_s)\n",
        "\"\"\""
      ],
      "metadata": {
        "id": "wHoZoGmOn8oL"
      },
      "execution_count": null,
      "outputs": []
    },
    {
      "cell_type": "code",
      "source": [
        "# 15.  Write a Python program to calculate the factorial of a number provided by the user using a while loop.\n",
        "\"\"\"\n",
        "num = int(input(\"Enter a number: \"))\n",
        "factorial = 1\n",
        "i = 1\n",
        "\n",
        "while i <= num:\n",
        "    factorial *= i\n",
        "    i += 1\n",
        "\n",
        "print(f\"Factorial of {num} is {factorial}\")\n",
        "\"\"\""
      ],
      "metadata": {
        "id": "f2PQ-uRZoIOW"
      },
      "execution_count": null,
      "outputs": []
    }
  ]
}